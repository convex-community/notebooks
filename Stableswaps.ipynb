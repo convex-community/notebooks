{
 "cells": [
  {
   "cell_type": "code",
   "execution_count": 132,
   "id": "0c13f010",
   "metadata": {},
   "outputs": [],
   "source": [
    "import pandas as pd\n",
    "import matplotlib.pyplot as plt\n",
    "import datetime\n",
    "import os\n",
    "import requests"
   ]
  },
  {
   "cell_type": "code",
   "execution_count": 133,
   "id": "f1fa31d7",
   "metadata": {},
   "outputs": [],
   "source": [
    "UNISWAP_USDT_DAI_POOL = \"0x6f48ECa74B38d2936B02ab603FF4e36A6C0E3A77\"\n",
    "UNIPOOL_ABI = '[{\"inputs\":[],\"stateMutability\":\"nonpayable\",\"type\":\"constructor\"},{\"anonymous\":false,\"inputs\":[{\"indexed\":true,\"internalType\":\"address\",\"name\":\"owner\",\"type\":\"address\"},{\"indexed\":true,\"internalType\":\"int24\",\"name\":\"tickLower\",\"type\":\"int24\"},{\"indexed\":true,\"internalType\":\"int24\",\"name\":\"tickUpper\",\"type\":\"int24\"},{\"indexed\":false,\"internalType\":\"uint128\",\"name\":\"amount\",\"type\":\"uint128\"},{\"indexed\":false,\"internalType\":\"uint256\",\"name\":\"amount0\",\"type\":\"uint256\"},{\"indexed\":false,\"internalType\":\"uint256\",\"name\":\"amount1\",\"type\":\"uint256\"}],\"name\":\"Burn\",\"type\":\"event\"},{\"anonymous\":false,\"inputs\":[{\"indexed\":true,\"internalType\":\"address\",\"name\":\"owner\",\"type\":\"address\"},{\"indexed\":false,\"internalType\":\"address\",\"name\":\"recipient\",\"type\":\"address\"},{\"indexed\":true,\"internalType\":\"int24\",\"name\":\"tickLower\",\"type\":\"int24\"},{\"indexed\":true,\"internalType\":\"int24\",\"name\":\"tickUpper\",\"type\":\"int24\"},{\"indexed\":false,\"internalType\":\"uint128\",\"name\":\"amount0\",\"type\":\"uint128\"},{\"indexed\":false,\"internalType\":\"uint128\",\"name\":\"amount1\",\"type\":\"uint128\"}],\"name\":\"Collect\",\"type\":\"event\"},{\"anonymous\":false,\"inputs\":[{\"indexed\":true,\"internalType\":\"address\",\"name\":\"sender\",\"type\":\"address\"},{\"indexed\":true,\"internalType\":\"address\",\"name\":\"recipient\",\"type\":\"address\"},{\"indexed\":false,\"internalType\":\"uint128\",\"name\":\"amount0\",\"type\":\"uint128\"},{\"indexed\":false,\"internalType\":\"uint128\",\"name\":\"amount1\",\"type\":\"uint128\"}],\"name\":\"CollectProtocol\",\"type\":\"event\"},{\"anonymous\":false,\"inputs\":[{\"indexed\":true,\"internalType\":\"address\",\"name\":\"sender\",\"type\":\"address\"},{\"indexed\":true,\"internalType\":\"address\",\"name\":\"recipient\",\"type\":\"address\"},{\"indexed\":false,\"internalType\":\"uint256\",\"name\":\"amount0\",\"type\":\"uint256\"},{\"indexed\":false,\"internalType\":\"uint256\",\"name\":\"amount1\",\"type\":\"uint256\"},{\"indexed\":false,\"internalType\":\"uint256\",\"name\":\"paid0\",\"type\":\"uint256\"},{\"indexed\":false,\"internalType\":\"uint256\",\"name\":\"paid1\",\"type\":\"uint256\"}],\"name\":\"Flash\",\"type\":\"event\"},{\"anonymous\":false,\"inputs\":[{\"indexed\":false,\"internalType\":\"uint16\",\"name\":\"observationCardinalityNextOld\",\"type\":\"uint16\"},{\"indexed\":false,\"internalType\":\"uint16\",\"name\":\"observationCardinalityNextNew\",\"type\":\"uint16\"}],\"name\":\"IncreaseObservationCardinalityNext\",\"type\":\"event\"},{\"anonymous\":false,\"inputs\":[{\"indexed\":false,\"internalType\":\"uint160\",\"name\":\"sqrtPriceX96\",\"type\":\"uint160\"},{\"indexed\":false,\"internalType\":\"int24\",\"name\":\"tick\",\"type\":\"int24\"}],\"name\":\"Initialize\",\"type\":\"event\"},{\"anonymous\":false,\"inputs\":[{\"indexed\":false,\"internalType\":\"address\",\"name\":\"sender\",\"type\":\"address\"},{\"indexed\":true,\"internalType\":\"address\",\"name\":\"owner\",\"type\":\"address\"},{\"indexed\":true,\"internalType\":\"int24\",\"name\":\"tickLower\",\"type\":\"int24\"},{\"indexed\":true,\"internalType\":\"int24\",\"name\":\"tickUpper\",\"type\":\"int24\"},{\"indexed\":false,\"internalType\":\"uint128\",\"name\":\"amount\",\"type\":\"uint128\"},{\"indexed\":false,\"internalType\":\"uint256\",\"name\":\"amount0\",\"type\":\"uint256\"},{\"indexed\":false,\"internalType\":\"uint256\",\"name\":\"amount1\",\"type\":\"uint256\"}],\"name\":\"Mint\",\"type\":\"event\"},{\"anonymous\":false,\"inputs\":[{\"indexed\":false,\"internalType\":\"uint8\",\"name\":\"feeProtocol0Old\",\"type\":\"uint8\"},{\"indexed\":false,\"internalType\":\"uint8\",\"name\":\"feeProtocol1Old\",\"type\":\"uint8\"},{\"indexed\":false,\"internalType\":\"uint8\",\"name\":\"feeProtocol0New\",\"type\":\"uint8\"},{\"indexed\":false,\"internalType\":\"uint8\",\"name\":\"feeProtocol1New\",\"type\":\"uint8\"}],\"name\":\"SetFeeProtocol\",\"type\":\"event\"},{\"anonymous\":false,\"inputs\":[{\"indexed\":true,\"internalType\":\"address\",\"name\":\"sender\",\"type\":\"address\"},{\"indexed\":true,\"internalType\":\"address\",\"name\":\"recipient\",\"type\":\"address\"},{\"indexed\":false,\"internalType\":\"int256\",\"name\":\"amount0\",\"type\":\"int256\"},{\"indexed\":false,\"internalType\":\"int256\",\"name\":\"amount1\",\"type\":\"int256\"},{\"indexed\":false,\"internalType\":\"uint160\",\"name\":\"sqrtPriceX96\",\"type\":\"uint160\"},{\"indexed\":false,\"internalType\":\"uint128\",\"name\":\"liquidity\",\"type\":\"uint128\"},{\"indexed\":false,\"internalType\":\"int24\",\"name\":\"tick\",\"type\":\"int24\"}],\"name\":\"Swap\",\"type\":\"event\"},{\"inputs\":[{\"internalType\":\"int24\",\"name\":\"tickLower\",\"type\":\"int24\"},{\"internalType\":\"int24\",\"name\":\"tickUpper\",\"type\":\"int24\"},{\"internalType\":\"uint128\",\"name\":\"amount\",\"type\":\"uint128\"}],\"name\":\"burn\",\"outputs\":[{\"internalType\":\"uint256\",\"name\":\"amount0\",\"type\":\"uint256\"},{\"internalType\":\"uint256\",\"name\":\"amount1\",\"type\":\"uint256\"}],\"stateMutability\":\"nonpayable\",\"type\":\"function\"},{\"inputs\":[{\"internalType\":\"address\",\"name\":\"recipient\",\"type\":\"address\"},{\"internalType\":\"int24\",\"name\":\"tickLower\",\"type\":\"int24\"},{\"internalType\":\"int24\",\"name\":\"tickUpper\",\"type\":\"int24\"},{\"internalType\":\"uint128\",\"name\":\"amount0Requested\",\"type\":\"uint128\"},{\"internalType\":\"uint128\",\"name\":\"amount1Requested\",\"type\":\"uint128\"}],\"name\":\"collect\",\"outputs\":[{\"internalType\":\"uint128\",\"name\":\"amount0\",\"type\":\"uint128\"},{\"internalType\":\"uint128\",\"name\":\"amount1\",\"type\":\"uint128\"}],\"stateMutability\":\"nonpayable\",\"type\":\"function\"},{\"inputs\":[{\"internalType\":\"address\",\"name\":\"recipient\",\"type\":\"address\"},{\"internalType\":\"uint128\",\"name\":\"amount0Requested\",\"type\":\"uint128\"},{\"internalType\":\"uint128\",\"name\":\"amount1Requested\",\"type\":\"uint128\"}],\"name\":\"collectProtocol\",\"outputs\":[{\"internalType\":\"uint128\",\"name\":\"amount0\",\"type\":\"uint128\"},{\"internalType\":\"uint128\",\"name\":\"amount1\",\"type\":\"uint128\"}],\"stateMutability\":\"nonpayable\",\"type\":\"function\"},{\"inputs\":[],\"name\":\"factory\",\"outputs\":[{\"internalType\":\"address\",\"name\":\"\",\"type\":\"address\"}],\"stateMutability\":\"view\",\"type\":\"function\"},{\"inputs\":[],\"name\":\"fee\",\"outputs\":[{\"internalType\":\"uint24\",\"name\":\"\",\"type\":\"uint24\"}],\"stateMutability\":\"view\",\"type\":\"function\"},{\"inputs\":[],\"name\":\"feeGrowthGlobal0X128\",\"outputs\":[{\"internalType\":\"uint256\",\"name\":\"\",\"type\":\"uint256\"}],\"stateMutability\":\"view\",\"type\":\"function\"},{\"inputs\":[],\"name\":\"feeGrowthGlobal1X128\",\"outputs\":[{\"internalType\":\"uint256\",\"name\":\"\",\"type\":\"uint256\"}],\"stateMutability\":\"view\",\"type\":\"function\"},{\"inputs\":[{\"internalType\":\"address\",\"name\":\"recipient\",\"type\":\"address\"},{\"internalType\":\"uint256\",\"name\":\"amount0\",\"type\":\"uint256\"},{\"internalType\":\"uint256\",\"name\":\"amount1\",\"type\":\"uint256\"},{\"internalType\":\"bytes\",\"name\":\"data\",\"type\":\"bytes\"}],\"name\":\"flash\",\"outputs\":[],\"stateMutability\":\"nonpayable\",\"type\":\"function\"},{\"inputs\":[{\"internalType\":\"uint16\",\"name\":\"observationCardinalityNext\",\"type\":\"uint16\"}],\"name\":\"increaseObservationCardinalityNext\",\"outputs\":[],\"stateMutability\":\"nonpayable\",\"type\":\"function\"},{\"inputs\":[{\"internalType\":\"uint160\",\"name\":\"sqrtPriceX96\",\"type\":\"uint160\"}],\"name\":\"initialize\",\"outputs\":[],\"stateMutability\":\"nonpayable\",\"type\":\"function\"},{\"inputs\":[],\"name\":\"liquidity\",\"outputs\":[{\"internalType\":\"uint128\",\"name\":\"\",\"type\":\"uint128\"}],\"stateMutability\":\"view\",\"type\":\"function\"},{\"inputs\":[],\"name\":\"maxLiquidityPerTick\",\"outputs\":[{\"internalType\":\"uint128\",\"name\":\"\",\"type\":\"uint128\"}],\"stateMutability\":\"view\",\"type\":\"function\"},{\"inputs\":[{\"internalType\":\"address\",\"name\":\"recipient\",\"type\":\"address\"},{\"internalType\":\"int24\",\"name\":\"tickLower\",\"type\":\"int24\"},{\"internalType\":\"int24\",\"name\":\"tickUpper\",\"type\":\"int24\"},{\"internalType\":\"uint128\",\"name\":\"amount\",\"type\":\"uint128\"},{\"internalType\":\"bytes\",\"name\":\"data\",\"type\":\"bytes\"}],\"name\":\"mint\",\"outputs\":[{\"internalType\":\"uint256\",\"name\":\"amount0\",\"type\":\"uint256\"},{\"internalType\":\"uint256\",\"name\":\"amount1\",\"type\":\"uint256\"}],\"stateMutability\":\"nonpayable\",\"type\":\"function\"},{\"inputs\":[{\"internalType\":\"uint256\",\"name\":\"\",\"type\":\"uint256\"}],\"name\":\"observations\",\"outputs\":[{\"internalType\":\"uint32\",\"name\":\"blockTimestamp\",\"type\":\"uint32\"},{\"internalType\":\"int56\",\"name\":\"tickCumulative\",\"type\":\"int56\"},{\"internalType\":\"uint160\",\"name\":\"secondsPerLiquidityCumulativeX128\",\"type\":\"uint160\"},{\"internalType\":\"bool\",\"name\":\"initialized\",\"type\":\"bool\"}],\"stateMutability\":\"view\",\"type\":\"function\"},{\"inputs\":[{\"internalType\":\"uint32[]\",\"name\":\"secondsAgos\",\"type\":\"uint32[]\"}],\"name\":\"observe\",\"outputs\":[{\"internalType\":\"int56[]\",\"name\":\"tickCumulatives\",\"type\":\"int56[]\"},{\"internalType\":\"uint160[]\",\"name\":\"secondsPerLiquidityCumulativeX128s\",\"type\":\"uint160[]\"}],\"stateMutability\":\"view\",\"type\":\"function\"},{\"inputs\":[{\"internalType\":\"bytes32\",\"name\":\"\",\"type\":\"bytes32\"}],\"name\":\"positions\",\"outputs\":[{\"internalType\":\"uint128\",\"name\":\"liquidity\",\"type\":\"uint128\"},{\"internalType\":\"uint256\",\"name\":\"feeGrowthInside0LastX128\",\"type\":\"uint256\"},{\"internalType\":\"uint256\",\"name\":\"feeGrowthInside1LastX128\",\"type\":\"uint256\"},{\"internalType\":\"uint128\",\"name\":\"tokensOwed0\",\"type\":\"uint128\"},{\"internalType\":\"uint128\",\"name\":\"tokensOwed1\",\"type\":\"uint128\"}],\"stateMutability\":\"view\",\"type\":\"function\"},{\"inputs\":[],\"name\":\"protocolFees\",\"outputs\":[{\"internalType\":\"uint128\",\"name\":\"token0\",\"type\":\"uint128\"},{\"internalType\":\"uint128\",\"name\":\"token1\",\"type\":\"uint128\"}],\"stateMutability\":\"view\",\"type\":\"function\"},{\"inputs\":[{\"internalType\":\"uint8\",\"name\":\"feeProtocol0\",\"type\":\"uint8\"},{\"internalType\":\"uint8\",\"name\":\"feeProtocol1\",\"type\":\"uint8\"}],\"name\":\"setFeeProtocol\",\"outputs\":[],\"stateMutability\":\"nonpayable\",\"type\":\"function\"},{\"inputs\":[],\"name\":\"slot0\",\"outputs\":[{\"internalType\":\"uint160\",\"name\":\"sqrtPriceX96\",\"type\":\"uint160\"},{\"internalType\":\"int24\",\"name\":\"tick\",\"type\":\"int24\"},{\"internalType\":\"uint16\",\"name\":\"observationIndex\",\"type\":\"uint16\"},{\"internalType\":\"uint16\",\"name\":\"observationCardinality\",\"type\":\"uint16\"},{\"internalType\":\"uint16\",\"name\":\"observationCardinalityNext\",\"type\":\"uint16\"},{\"internalType\":\"uint8\",\"name\":\"feeProtocol\",\"type\":\"uint8\"},{\"internalType\":\"bool\",\"name\":\"unlocked\",\"type\":\"bool\"}],\"stateMutability\":\"view\",\"type\":\"function\"},{\"inputs\":[{\"internalType\":\"int24\",\"name\":\"tickLower\",\"type\":\"int24\"},{\"internalType\":\"int24\",\"name\":\"tickUpper\",\"type\":\"int24\"}],\"name\":\"snapshotCumulativesInside\",\"outputs\":[{\"internalType\":\"int56\",\"name\":\"tickCumulativeInside\",\"type\":\"int56\"},{\"internalType\":\"uint160\",\"name\":\"secondsPerLiquidityInsideX128\",\"type\":\"uint160\"},{\"internalType\":\"uint32\",\"name\":\"secondsInside\",\"type\":\"uint32\"}],\"stateMutability\":\"view\",\"type\":\"function\"},{\"inputs\":[{\"internalType\":\"address\",\"name\":\"recipient\",\"type\":\"address\"},{\"internalType\":\"bool\",\"name\":\"zeroForOne\",\"type\":\"bool\"},{\"internalType\":\"int256\",\"name\":\"amountSpecified\",\"type\":\"int256\"},{\"internalType\":\"uint160\",\"name\":\"sqrtPriceLimitX96\",\"type\":\"uint160\"},{\"internalType\":\"bytes\",\"name\":\"data\",\"type\":\"bytes\"}],\"name\":\"swap\",\"outputs\":[{\"internalType\":\"int256\",\"name\":\"amount0\",\"type\":\"int256\"},{\"internalType\":\"int256\",\"name\":\"amount1\",\"type\":\"int256\"}],\"stateMutability\":\"nonpayable\",\"type\":\"function\"},{\"inputs\":[{\"internalType\":\"int16\",\"name\":\"\",\"type\":\"int16\"}],\"name\":\"tickBitmap\",\"outputs\":[{\"internalType\":\"uint256\",\"name\":\"\",\"type\":\"uint256\"}],\"stateMutability\":\"view\",\"type\":\"function\"},{\"inputs\":[],\"name\":\"tickSpacing\",\"outputs\":[{\"internalType\":\"int24\",\"name\":\"\",\"type\":\"int24\"}],\"stateMutability\":\"view\",\"type\":\"function\"},{\"inputs\":[{\"internalType\":\"int24\",\"name\":\"\",\"type\":\"int24\"}],\"name\":\"ticks\",\"outputs\":[{\"internalType\":\"uint128\",\"name\":\"liquidityGross\",\"type\":\"uint128\"},{\"internalType\":\"int128\",\"name\":\"liquidityNet\",\"type\":\"int128\"},{\"internalType\":\"uint256\",\"name\":\"feeGrowthOutside0X128\",\"type\":\"uint256\"},{\"internalType\":\"uint256\",\"name\":\"feeGrowthOutside1X128\",\"type\":\"uint256\"},{\"internalType\":\"int56\",\"name\":\"tickCumulativeOutside\",\"type\":\"int56\"},{\"internalType\":\"uint160\",\"name\":\"secondsPerLiquidityOutsideX128\",\"type\":\"uint160\"},{\"internalType\":\"uint32\",\"name\":\"secondsOutside\",\"type\":\"uint32\"},{\"internalType\":\"bool\",\"name\":\"initialized\",\"type\":\"bool\"}],\"stateMutability\":\"view\",\"type\":\"function\"},{\"inputs\":[],\"name\":\"token0\",\"outputs\":[{\"internalType\":\"address\",\"name\":\"\",\"type\":\"address\"}],\"stateMutability\":\"view\",\"type\":\"function\"},{\"inputs\":[],\"name\":\"token1\",\"outputs\":[{\"internalType\":\"address\",\"name\":\"\",\"type\":\"address\"}],\"stateMutability\":\"view\",\"type\":\"function\"}]'"
   ]
  },
  {
   "cell_type": "markdown",
   "id": "17f8dc23",
   "metadata": {},
   "source": [
    "# 1. If UniV3 trades had been executed on Curve"
   ]
  },
  {
   "cell_type": "code",
   "execution_count": 283,
   "id": "e5001618",
   "metadata": {},
   "outputs": [
    {
     "data": {
      "text/plain": [
       "<Response [200]>"
      ]
     },
     "execution_count": 283,
     "metadata": {},
     "output_type": "execute_result"
    }
   ],
   "source": [
    "query = f\"https://api.etherscan.io/api?module=account&action=tokentx&address={UNISWAP_USDT_DAI_POOL}&sort=asc&offset=2000&page=1&apikey={os.environ['ETHERSCAN_TOKEN']}\"\n",
    "etherscan_api_response = requests.post(query)\n",
    "etherscan_api_response"
   ]
  },
  {
   "cell_type": "code",
   "execution_count": 284,
   "id": "2898b0d9",
   "metadata": {},
   "outputs": [],
   "source": [
    "stable_swaps = etherscan_api_response.json()['result']"
   ]
  },
  {
   "cell_type": "code",
   "execution_count": 285,
   "id": "5792b954",
   "metadata": {
    "scrolled": false
   },
   "outputs": [],
   "source": [
    "swaps = pd.DataFrame(stable_swaps)"
   ]
  },
  {
   "cell_type": "code",
   "execution_count": 286,
   "id": "bbf51a3a",
   "metadata": {},
   "outputs": [
    {
     "data": {
      "text/plain": [
       "'0xc3408afc7a181483ed1e692f30c6660e1691dba3505f8bff70ca6f9830c720c3'"
      ]
     },
     "execution_count": 286,
     "metadata": {},
     "output_type": "execute_result"
    }
   ],
   "source": [
    "swaps['hash'][0]"
   ]
  },
  {
   "cell_type": "code",
   "execution_count": 175,
   "id": "1f16beb7",
   "metadata": {},
   "outputs": [
    {
     "data": {
      "text/html": [
       "<div>\n",
       "<style scoped>\n",
       "    .dataframe tbody tr th:only-of-type {\n",
       "        vertical-align: middle;\n",
       "    }\n",
       "\n",
       "    .dataframe tbody tr th {\n",
       "        vertical-align: top;\n",
       "    }\n",
       "\n",
       "    .dataframe thead th {\n",
       "        text-align: right;\n",
       "    }\n",
       "</style>\n",
       "<table border=\"1\" class=\"dataframe\">\n",
       "  <thead>\n",
       "    <tr style=\"text-align: right;\">\n",
       "      <th></th>\n",
       "      <th>blockNumber</th>\n",
       "      <th>timeStamp</th>\n",
       "      <th>hash</th>\n",
       "      <th>nonce</th>\n",
       "      <th>blockHash</th>\n",
       "      <th>from</th>\n",
       "      <th>to</th>\n",
       "      <th>contractAddress</th>\n",
       "      <th>value</th>\n",
       "      <th>tokenName</th>\n",
       "      <th>tokenSymbol</th>\n",
       "      <th>tokenDecimal</th>\n",
       "      <th>transactionIndex</th>\n",
       "      <th>gas</th>\n",
       "      <th>gasPrice</th>\n",
       "      <th>gasUsed</th>\n",
       "      <th>cumulativeGasUsed</th>\n",
       "      <th>input</th>\n",
       "      <th>confirmations</th>\n",
       "    </tr>\n",
       "  </thead>\n",
       "  <tbody>\n",
       "    <tr>\n",
       "      <th>0</th>\n",
       "      <td>12370078</td>\n",
       "      <td>1620162016</td>\n",
       "      <td>0xc3408afc7a181483ed1e692f30c6660e1691dba3505f...</td>\n",
       "      <td>12</td>\n",
       "      <td>0x3eb2c404871d55ecf4fbf987ce48bbf3e34643e25078...</td>\n",
       "      <td>0xdd0d6c26a03d6f6541471d44179f56d478f50f6b</td>\n",
       "      <td>0x6f48eca74b38d2936b02ab603ff4e36a6c0e3a77</td>\n",
       "      <td>0x6b175474e89094c44da98b954eedeac495271d0f</td>\n",
       "      <td>32999999432280127947</td>\n",
       "      <td>Dai Stablecoin</td>\n",
       "      <td>DAI</td>\n",
       "      <td>18</td>\n",
       "      <td>86</td>\n",
       "      <td>5737399</td>\n",
       "      <td>45000000000</td>\n",
       "      <td>5149148</td>\n",
       "      <td>12578994</td>\n",
       "      <td>deprecated</td>\n",
       "      <td>825212</td>\n",
       "    </tr>\n",
       "    <tr>\n",
       "      <th>1</th>\n",
       "      <td>12370078</td>\n",
       "      <td>1620162016</td>\n",
       "      <td>0xc3408afc7a181483ed1e692f30c6660e1691dba3505f...</td>\n",
       "      <td>12</td>\n",
       "      <td>0x3eb2c404871d55ecf4fbf987ce48bbf3e34643e25078...</td>\n",
       "      <td>0xdd0d6c26a03d6f6541471d44179f56d478f50f6b</td>\n",
       "      <td>0x6f48eca74b38d2936b02ab603ff4e36a6c0e3a77</td>\n",
       "      <td>0xdac17f958d2ee523a2206206994597c13d831ec7</td>\n",
       "      <td>32996787</td>\n",
       "      <td>Tether USD</td>\n",
       "      <td>USDT</td>\n",
       "      <td>6</td>\n",
       "      <td>86</td>\n",
       "      <td>5737399</td>\n",
       "      <td>45000000000</td>\n",
       "      <td>5149148</td>\n",
       "      <td>12578994</td>\n",
       "      <td>deprecated</td>\n",
       "      <td>825212</td>\n",
       "    </tr>\n",
       "    <tr>\n",
       "      <th>2</th>\n",
       "      <td>12370161</td>\n",
       "      <td>1620163086</td>\n",
       "      <td>0x6425041331d6d86a357ca3ac0225daaebf9921f9774c...</td>\n",
       "      <td>15</td>\n",
       "      <td>0xc9094d81f762973a6ac51055b249491c7c730afe3204...</td>\n",
       "      <td>0xdd0d6c26a03d6f6541471d44179f56d478f50f6b</td>\n",
       "      <td>0x6f48eca74b38d2936b02ab603ff4e36a6c0e3a77</td>\n",
       "      <td>0x6b175474e89094c44da98b954eedeac495271d0f</td>\n",
       "      <td>33003212745084668275</td>\n",
       "      <td>Dai Stablecoin</td>\n",
       "      <td>DAI</td>\n",
       "      <td>18</td>\n",
       "      <td>134</td>\n",
       "      <td>477052</td>\n",
       "      <td>65000000000</td>\n",
       "      <td>430884</td>\n",
       "      <td>8070554</td>\n",
       "      <td>deprecated</td>\n",
       "      <td>825129</td>\n",
       "    </tr>\n",
       "    <tr>\n",
       "      <th>3</th>\n",
       "      <td>12370161</td>\n",
       "      <td>1620163086</td>\n",
       "      <td>0x6425041331d6d86a357ca3ac0225daaebf9921f9774c...</td>\n",
       "      <td>15</td>\n",
       "      <td>0xc9094d81f762973a6ac51055b249491c7c730afe3204...</td>\n",
       "      <td>0xdd0d6c26a03d6f6541471d44179f56d478f50f6b</td>\n",
       "      <td>0x6f48eca74b38d2936b02ab603ff4e36a6c0e3a77</td>\n",
       "      <td>0xdac17f958d2ee523a2206206994597c13d831ec7</td>\n",
       "      <td>33000000</td>\n",
       "      <td>Tether USD</td>\n",
       "      <td>USDT</td>\n",
       "      <td>6</td>\n",
       "      <td>134</td>\n",
       "      <td>477052</td>\n",
       "      <td>65000000000</td>\n",
       "      <td>430884</td>\n",
       "      <td>8070554</td>\n",
       "      <td>deprecated</td>\n",
       "      <td>825129</td>\n",
       "    </tr>\n",
       "    <tr>\n",
       "      <th>4</th>\n",
       "      <td>12370316</td>\n",
       "      <td>1620165157</td>\n",
       "      <td>0x9c5740fb30e27d0e3a4d17bde68738a22bfb25ee138e...</td>\n",
       "      <td>17</td>\n",
       "      <td>0xb25faad464c3ddd11c4395f10e3086e4bd2afe6d3957...</td>\n",
       "      <td>0xdd0d6c26a03d6f6541471d44179f56d478f50f6b</td>\n",
       "      <td>0x6f48eca74b38d2936b02ab603ff4e36a6c0e3a77</td>\n",
       "      <td>0x6b175474e89094c44da98b954eedeac495271d0f</td>\n",
       "      <td>19999999928681172371</td>\n",
       "      <td>Dai Stablecoin</td>\n",
       "      <td>DAI</td>\n",
       "      <td>18</td>\n",
       "      <td>167</td>\n",
       "      <td>364489</td>\n",
       "      <td>60000000000</td>\n",
       "      <td>328554</td>\n",
       "      <td>11355191</td>\n",
       "      <td>deprecated</td>\n",
       "      <td>824974</td>\n",
       "    </tr>\n",
       "    <tr>\n",
       "      <th>...</th>\n",
       "      <td>...</td>\n",
       "      <td>...</td>\n",
       "      <td>...</td>\n",
       "      <td>...</td>\n",
       "      <td>...</td>\n",
       "      <td>...</td>\n",
       "      <td>...</td>\n",
       "      <td>...</td>\n",
       "      <td>...</td>\n",
       "      <td>...</td>\n",
       "      <td>...</td>\n",
       "      <td>...</td>\n",
       "      <td>...</td>\n",
       "      <td>...</td>\n",
       "      <td>...</td>\n",
       "      <td>...</td>\n",
       "      <td>...</td>\n",
       "      <td>...</td>\n",
       "      <td>...</td>\n",
       "    </tr>\n",
       "    <tr>\n",
       "      <th>1995</th>\n",
       "      <td>12392134</td>\n",
       "      <td>1620456569</td>\n",
       "      <td>0xff0a682c2c99a5ddf7cebbd20ad9e2cc31fdbd41bcf7...</td>\n",
       "      <td>994</td>\n",
       "      <td>0x29f65968c35f17199b8dd2af5b781d719a1faaa4a538...</td>\n",
       "      <td>0x6f48eca74b38d2936b02ab603ff4e36a6c0e3a77</td>\n",
       "      <td>0x60594a405d53811d3bc4766596efd80fd545a270</td>\n",
       "      <td>0x6b175474e89094c44da98b954eedeac495271d0f</td>\n",
       "      <td>1764498827822502354610</td>\n",
       "      <td>Dai Stablecoin</td>\n",
       "      <td>DAI</td>\n",
       "      <td>18</td>\n",
       "      <td>210</td>\n",
       "      <td>495054</td>\n",
       "      <td>102690000000</td>\n",
       "      <td>200868</td>\n",
       "      <td>8226070</td>\n",
       "      <td>deprecated</td>\n",
       "      <td>803156</td>\n",
       "    </tr>\n",
       "    <tr>\n",
       "      <th>1996</th>\n",
       "      <td>12392134</td>\n",
       "      <td>1620456569</td>\n",
       "      <td>0xff0a682c2c99a5ddf7cebbd20ad9e2cc31fdbd41bcf7...</td>\n",
       "      <td>994</td>\n",
       "      <td>0x29f65968c35f17199b8dd2af5b781d719a1faaa4a538...</td>\n",
       "      <td>0x90c3a449938d414b1322634766a9b05b507314f2</td>\n",
       "      <td>0x6f48eca74b38d2936b02ab603ff4e36a6c0e3a77</td>\n",
       "      <td>0xdac17f958d2ee523a2206206994597c13d831ec7</td>\n",
       "      <td>1764436668</td>\n",
       "      <td>Tether USD</td>\n",
       "      <td>USDT</td>\n",
       "      <td>6</td>\n",
       "      <td>210</td>\n",
       "      <td>495054</td>\n",
       "      <td>102690000000</td>\n",
       "      <td>200868</td>\n",
       "      <td>8226070</td>\n",
       "      <td>deprecated</td>\n",
       "      <td>803156</td>\n",
       "    </tr>\n",
       "    <tr>\n",
       "      <th>1997</th>\n",
       "      <td>12392219</td>\n",
       "      <td>1620457736</td>\n",
       "      <td>0xfe3b4b71e404cb208193d458071ac6a88607cc6c5b07...</td>\n",
       "      <td>36</td>\n",
       "      <td>0x2903b5aca79a868cfa92d3d5ec47c63991eceea2a2ee...</td>\n",
       "      <td>0x6f48eca74b38d2936b02ab603ff4e36a6c0e3a77</td>\n",
       "      <td>0x237bb416015af8592349efb9c4c56f0618741431</td>\n",
       "      <td>0xdac17f958d2ee523a2206206994597c13d831ec7</td>\n",
       "      <td>255000000</td>\n",
       "      <td>Tether USD</td>\n",
       "      <td>USDT</td>\n",
       "      <td>6</td>\n",
       "      <td>76</td>\n",
       "      <td>252952</td>\n",
       "      <td>100000000000</td>\n",
       "      <td>205969</td>\n",
       "      <td>5627719</td>\n",
       "      <td>deprecated</td>\n",
       "      <td>803071</td>\n",
       "    </tr>\n",
       "    <tr>\n",
       "      <th>1998</th>\n",
       "      <td>12392219</td>\n",
       "      <td>1620457736</td>\n",
       "      <td>0xfe3b4b71e404cb208193d458071ac6a88607cc6c5b07...</td>\n",
       "      <td>36</td>\n",
       "      <td>0x2903b5aca79a868cfa92d3d5ec47c63991eceea2a2ee...</td>\n",
       "      <td>0x60594a405d53811d3bc4766596efd80fd545a270</td>\n",
       "      <td>0x6f48eca74b38d2936b02ab603ff4e36a6c0e3a77</td>\n",
       "      <td>0x6b175474e89094c44da98b954eedeac495271d0f</td>\n",
       "      <td>255264102020460925806</td>\n",
       "      <td>Dai Stablecoin</td>\n",
       "      <td>DAI</td>\n",
       "      <td>18</td>\n",
       "      <td>76</td>\n",
       "      <td>252952</td>\n",
       "      <td>100000000000</td>\n",
       "      <td>205969</td>\n",
       "      <td>5627719</td>\n",
       "      <td>deprecated</td>\n",
       "      <td>803071</td>\n",
       "    </tr>\n",
       "    <tr>\n",
       "      <th>1999</th>\n",
       "      <td>12392304</td>\n",
       "      <td>1620459040</td>\n",
       "      <td>0x6f4814673dbb81f78244442ddce470557326283bbc33...</td>\n",
       "      <td>27</td>\n",
       "      <td>0x274d38b02d553bfe337da0d7c58f49ebdde41b121402...</td>\n",
       "      <td>0x6f48eca74b38d2936b02ab603ff4e36a6c0e3a77</td>\n",
       "      <td>0x2ce64b5e53dd4e70c52070421d42fe6cca27624d</td>\n",
       "      <td>0x6b175474e89094c44da98b954eedeac495271d0f</td>\n",
       "      <td>2085514158148723801786</td>\n",
       "      <td>Dai Stablecoin</td>\n",
       "      <td>DAI</td>\n",
       "      <td>18</td>\n",
       "      <td>179</td>\n",
       "      <td>239895</td>\n",
       "      <td>104000000000</td>\n",
       "      <td>195485</td>\n",
       "      <td>11496656</td>\n",
       "      <td>deprecated</td>\n",
       "      <td>802986</td>\n",
       "    </tr>\n",
       "  </tbody>\n",
       "</table>\n",
       "<p>2000 rows × 19 columns</p>\n",
       "</div>"
      ],
      "text/plain": [
       "     blockNumber   timeStamp  \\\n",
       "0       12370078  1620162016   \n",
       "1       12370078  1620162016   \n",
       "2       12370161  1620163086   \n",
       "3       12370161  1620163086   \n",
       "4       12370316  1620165157   \n",
       "...          ...         ...   \n",
       "1995    12392134  1620456569   \n",
       "1996    12392134  1620456569   \n",
       "1997    12392219  1620457736   \n",
       "1998    12392219  1620457736   \n",
       "1999    12392304  1620459040   \n",
       "\n",
       "                                                   hash nonce  \\\n",
       "0     0xc3408afc7a181483ed1e692f30c6660e1691dba3505f...    12   \n",
       "1     0xc3408afc7a181483ed1e692f30c6660e1691dba3505f...    12   \n",
       "2     0x6425041331d6d86a357ca3ac0225daaebf9921f9774c...    15   \n",
       "3     0x6425041331d6d86a357ca3ac0225daaebf9921f9774c...    15   \n",
       "4     0x9c5740fb30e27d0e3a4d17bde68738a22bfb25ee138e...    17   \n",
       "...                                                 ...   ...   \n",
       "1995  0xff0a682c2c99a5ddf7cebbd20ad9e2cc31fdbd41bcf7...   994   \n",
       "1996  0xff0a682c2c99a5ddf7cebbd20ad9e2cc31fdbd41bcf7...   994   \n",
       "1997  0xfe3b4b71e404cb208193d458071ac6a88607cc6c5b07...    36   \n",
       "1998  0xfe3b4b71e404cb208193d458071ac6a88607cc6c5b07...    36   \n",
       "1999  0x6f4814673dbb81f78244442ddce470557326283bbc33...    27   \n",
       "\n",
       "                                              blockHash  \\\n",
       "0     0x3eb2c404871d55ecf4fbf987ce48bbf3e34643e25078...   \n",
       "1     0x3eb2c404871d55ecf4fbf987ce48bbf3e34643e25078...   \n",
       "2     0xc9094d81f762973a6ac51055b249491c7c730afe3204...   \n",
       "3     0xc9094d81f762973a6ac51055b249491c7c730afe3204...   \n",
       "4     0xb25faad464c3ddd11c4395f10e3086e4bd2afe6d3957...   \n",
       "...                                                 ...   \n",
       "1995  0x29f65968c35f17199b8dd2af5b781d719a1faaa4a538...   \n",
       "1996  0x29f65968c35f17199b8dd2af5b781d719a1faaa4a538...   \n",
       "1997  0x2903b5aca79a868cfa92d3d5ec47c63991eceea2a2ee...   \n",
       "1998  0x2903b5aca79a868cfa92d3d5ec47c63991eceea2a2ee...   \n",
       "1999  0x274d38b02d553bfe337da0d7c58f49ebdde41b121402...   \n",
       "\n",
       "                                            from  \\\n",
       "0     0xdd0d6c26a03d6f6541471d44179f56d478f50f6b   \n",
       "1     0xdd0d6c26a03d6f6541471d44179f56d478f50f6b   \n",
       "2     0xdd0d6c26a03d6f6541471d44179f56d478f50f6b   \n",
       "3     0xdd0d6c26a03d6f6541471d44179f56d478f50f6b   \n",
       "4     0xdd0d6c26a03d6f6541471d44179f56d478f50f6b   \n",
       "...                                          ...   \n",
       "1995  0x6f48eca74b38d2936b02ab603ff4e36a6c0e3a77   \n",
       "1996  0x90c3a449938d414b1322634766a9b05b507314f2   \n",
       "1997  0x6f48eca74b38d2936b02ab603ff4e36a6c0e3a77   \n",
       "1998  0x60594a405d53811d3bc4766596efd80fd545a270   \n",
       "1999  0x6f48eca74b38d2936b02ab603ff4e36a6c0e3a77   \n",
       "\n",
       "                                              to  \\\n",
       "0     0x6f48eca74b38d2936b02ab603ff4e36a6c0e3a77   \n",
       "1     0x6f48eca74b38d2936b02ab603ff4e36a6c0e3a77   \n",
       "2     0x6f48eca74b38d2936b02ab603ff4e36a6c0e3a77   \n",
       "3     0x6f48eca74b38d2936b02ab603ff4e36a6c0e3a77   \n",
       "4     0x6f48eca74b38d2936b02ab603ff4e36a6c0e3a77   \n",
       "...                                          ...   \n",
       "1995  0x60594a405d53811d3bc4766596efd80fd545a270   \n",
       "1996  0x6f48eca74b38d2936b02ab603ff4e36a6c0e3a77   \n",
       "1997  0x237bb416015af8592349efb9c4c56f0618741431   \n",
       "1998  0x6f48eca74b38d2936b02ab603ff4e36a6c0e3a77   \n",
       "1999  0x2ce64b5e53dd4e70c52070421d42fe6cca27624d   \n",
       "\n",
       "                                 contractAddress                   value  \\\n",
       "0     0x6b175474e89094c44da98b954eedeac495271d0f    32999999432280127947   \n",
       "1     0xdac17f958d2ee523a2206206994597c13d831ec7                32996787   \n",
       "2     0x6b175474e89094c44da98b954eedeac495271d0f    33003212745084668275   \n",
       "3     0xdac17f958d2ee523a2206206994597c13d831ec7                33000000   \n",
       "4     0x6b175474e89094c44da98b954eedeac495271d0f    19999999928681172371   \n",
       "...                                          ...                     ...   \n",
       "1995  0x6b175474e89094c44da98b954eedeac495271d0f  1764498827822502354610   \n",
       "1996  0xdac17f958d2ee523a2206206994597c13d831ec7              1764436668   \n",
       "1997  0xdac17f958d2ee523a2206206994597c13d831ec7               255000000   \n",
       "1998  0x6b175474e89094c44da98b954eedeac495271d0f   255264102020460925806   \n",
       "1999  0x6b175474e89094c44da98b954eedeac495271d0f  2085514158148723801786   \n",
       "\n",
       "           tokenName tokenSymbol tokenDecimal transactionIndex      gas  \\\n",
       "0     Dai Stablecoin         DAI           18               86  5737399   \n",
       "1         Tether USD        USDT            6               86  5737399   \n",
       "2     Dai Stablecoin         DAI           18              134   477052   \n",
       "3         Tether USD        USDT            6              134   477052   \n",
       "4     Dai Stablecoin         DAI           18              167   364489   \n",
       "...              ...         ...          ...              ...      ...   \n",
       "1995  Dai Stablecoin         DAI           18              210   495054   \n",
       "1996      Tether USD        USDT            6              210   495054   \n",
       "1997      Tether USD        USDT            6               76   252952   \n",
       "1998  Dai Stablecoin         DAI           18               76   252952   \n",
       "1999  Dai Stablecoin         DAI           18              179   239895   \n",
       "\n",
       "          gasPrice  gasUsed cumulativeGasUsed       input confirmations  \n",
       "0      45000000000  5149148          12578994  deprecated        825212  \n",
       "1      45000000000  5149148          12578994  deprecated        825212  \n",
       "2      65000000000   430884           8070554  deprecated        825129  \n",
       "3      65000000000   430884           8070554  deprecated        825129  \n",
       "4      60000000000   328554          11355191  deprecated        824974  \n",
       "...            ...      ...               ...         ...           ...  \n",
       "1995  102690000000   200868           8226070  deprecated        803156  \n",
       "1996  102690000000   200868           8226070  deprecated        803156  \n",
       "1997  100000000000   205969           5627719  deprecated        803071  \n",
       "1998  100000000000   205969           5627719  deprecated        803071  \n",
       "1999  104000000000   195485          11496656  deprecated        802986  \n",
       "\n",
       "[2000 rows x 19 columns]"
      ]
     },
     "execution_count": 175,
     "metadata": {},
     "output_type": "execute_result"
    }
   ],
   "source": [
    "swaps"
   ]
  },
  {
   "cell_type": "code",
   "execution_count": 139,
   "id": "46900563",
   "metadata": {},
   "outputs": [],
   "source": [
    "import brownie"
   ]
  },
  {
   "cell_type": "code",
   "execution_count": null,
   "id": "e29188e5",
   "metadata": {},
   "outputs": [],
   "source": [
    "brownie.network.disconnect()\n",
    "brownie.network.connect(\"mainnet-fork\")"
   ]
  },
  {
   "cell_type": "code",
   "execution_count": 222,
   "id": "a102c4b2",
   "metadata": {},
   "outputs": [
    {
     "name": "stdout",
     "output_type": "stream",
     "text": [
      "Fetching source of \u001b[0;1;34m0xbEbc44782C7dB0a1A60Cb6fe97d0b483032FF1C7\u001b[0;m from \u001b[0;1;34mapi.etherscan.io\u001b[0;m...\n"
     ]
    }
   ],
   "source": [
    "curve_swap = brownie.Contract.from_explorer(\"0xbEbc44782C7dB0a1A60Cb6fe97d0b483032FF1C7\")"
   ]
  },
  {
   "cell_type": "code",
   "execution_count": 302,
   "id": "d7179ee3",
   "metadata": {},
   "outputs": [],
   "source": [
    "TRIPOOL_TOKEN_MAP = {\n",
    "                                      'DAI': 0,\n",
    "                                      'USDT': 1,\n",
    "                                      'USDC': 2,\n",
    "                                      2: 'USDC',\n",
    "                                      1: '0xdAC17F958D2ee523a2206206994597C13D831ec7',\n",
    "                                      0: '0x6B175474E89094C44Da98b954EedeAC495271d0F'\n",
    "                                        }"
   ]
  },
  {
   "cell_type": "code",
   "execution_count": 151,
   "id": "a0c32925",
   "metadata": {},
   "outputs": [],
   "source": [
    "class Trade():\n",
    "    def __init__(self, token_in, amount_in, token_out, amount_out, block_number):\n",
    "        self.token_in = token_in\n",
    "        self.amount_in = amount_in\n",
    "        self.token_out = token_out\n",
    "        self.amount_out = amount_out\n",
    "        self.block_number = block_number"
   ]
  },
  {
   "cell_type": "code",
   "execution_count": 176,
   "id": "31aa4eef",
   "metadata": {},
   "outputs": [],
   "source": [
    "trades = []\n",
    "for tx in swaps['hash'].unique():\n",
    "    split_trade = swaps[swaps['hash']==tx].reset_index(drop=True).to_dict(orient='index')\n",
    "    if len(split_trade) != 2:\n",
    "        continue\n",
    "    trade = Trade(split_trade[0]['tokenSymbol'], int(split_trade[0]['value']), split_trade[1]['tokenSymbol'], int(split_trade[1]['value']), int(split_trade[0]['blockNumber']))\n",
    "    trades.append(trade)"
   ]
  },
  {
   "cell_type": "code",
   "execution_count": 177,
   "id": "8472a392",
   "metadata": {},
   "outputs": [],
   "source": [
    "from tqdm import tqdm"
   ]
  },
  {
   "cell_type": "code",
   "execution_count": 178,
   "id": "5cc8d77c",
   "metadata": {},
   "outputs": [
    {
     "name": "stderr",
     "output_type": "stream",
     "text": [
      "100%|████████████████████████████████████████████| 998/998 [06:27<00:00,  2.57it/s]\n"
     ]
    }
   ],
   "source": [
    "from collections import defaultdict\n",
    "balances = defaultdict(list)\n",
    "\n",
    "for trade in tqdm(trades):\n",
    "    try:\n",
    "        curve_out = curve_swap.get_dy(TRIPOOL_TOKEN_MAP[trade.token_in], TRIPOOL_TOKEN_MAP[trade.token_out], trade.amount_in, block_identifier=trade.block_number)\n",
    "        balances[trade.token_out].append(curve_out - trade.amount_out)\n",
    "    except Exception as e:\n",
    "        print(e)"
   ]
  },
  {
   "cell_type": "code",
   "execution_count": 179,
   "id": "63f15ff6",
   "metadata": {},
   "outputs": [
    {
     "name": "stdout",
     "output_type": "stream",
     "text": [
      "Total differential for USDT -> DAI: -14426.178138159059\n",
      "Mean differential for USDT -> DAI: -32.27332916814107\n",
      "Positive vs negative trades for USDT -> DAI: 2 / 447\n",
      "Total differential for DAI -> USDT: -283435.670295\n",
      "Mean differential for DAI -> USDT: -514.4023054355716\n",
      "Positive vs negative trades for DAI -> USDT: 225 / 551\n"
     ]
    }
   ],
   "source": [
    "import numpy as np\n",
    "print(f\"Total differential for USDT -> DAI: {np.sum(balances['DAI']) / 10**18}\")\n",
    "print(f\"Mean differential for USDT -> DAI: {np.mean(balances['DAI']) / 10**18}\")\n",
    "print(f\"Positive vs negative trades for USDT -> DAI: {sum([_ > 0 for _ in balances['DAI']])} / {len(balances['DAI'])}\")\n",
    "print(f\"Total differential for DAI -> USDT: {np.sum(balances['USDT']) / 10**6}\")\n",
    "print(f\"Mean differential for DAI -> USDT: {np.mean(balances['USDT']) / 10**6}\")\n",
    "print(f\"Positive vs negative trades for DAI -> USDT: {sum([_ > 0 for _ in balances['USDT']])} / {len(balances['USDT'])}\")"
   ]
  },
  {
   "cell_type": "markdown",
   "id": "5158cecb",
   "metadata": {},
   "source": [
    "# 2. If Curve trades had been executed on UniV3"
   ]
  },
  {
   "cell_type": "code",
   "execution_count": 228,
   "id": "6f49631a",
   "metadata": {},
   "outputs": [],
   "source": [
    "CURVE_TRIPOOL = \"0xbEbc44782C7dB0a1A60Cb6fe97d0b483032FF1C7\"\n",
    "UNISWAP_V3_QUOTER = '0xb27308f9F90D607463bb33eA1BeBb41C27CE5AB6'"
   ]
  },
  {
   "cell_type": "code",
   "execution_count": 208,
   "id": "132078ea",
   "metadata": {},
   "outputs": [
    {
     "data": {
      "text/plain": [
       "<Response [200]>"
      ]
     },
     "execution_count": 208,
     "metadata": {},
     "output_type": "execute_result"
    }
   ],
   "source": [
    "query = f\"https://api.flipsidecrypto.com/api/v2/queries/ff32dc72-6f52-424e-a1e3-6029ebc6a7f2/data/latest\"\n",
    "flipside_api_response = requests.get(query)\n",
    "flipside_api_response"
   ]
  },
  {
   "cell_type": "code",
   "execution_count": 209,
   "id": "58a0f1cb",
   "metadata": {},
   "outputs": [],
   "source": [
    "crv_stable_swaps = flipside_api_response.json()"
   ]
  },
  {
   "cell_type": "code",
   "execution_count": 210,
   "id": "72cf3a2b",
   "metadata": {},
   "outputs": [],
   "source": [
    "crv_swaps = pd.DataFrame(crv_stable_swaps)"
   ]
  },
  {
   "cell_type": "code",
   "execution_count": 211,
   "id": "e3be113a",
   "metadata": {
    "scrolled": true
   },
   "outputs": [
    {
     "data": {
      "text/html": [
       "<div>\n",
       "<style scoped>\n",
       "    .dataframe tbody tr th:only-of-type {\n",
       "        vertical-align: middle;\n",
       "    }\n",
       "\n",
       "    .dataframe tbody tr th {\n",
       "        vertical-align: top;\n",
       "    }\n",
       "\n",
       "    .dataframe thead th {\n",
       "        text-align: right;\n",
       "    }\n",
       "</style>\n",
       "<table border=\"1\" class=\"dataframe\">\n",
       "  <thead>\n",
       "    <tr style=\"text-align: right;\">\n",
       "      <th></th>\n",
       "      <th>BLOCK_ID</th>\n",
       "      <th>BLOCK_TIMESTAMP</th>\n",
       "      <th>ORIGIN_FUNCTION_NAME</th>\n",
       "      <th>TX_ID</th>\n",
       "    </tr>\n",
       "  </thead>\n",
       "  <tbody>\n",
       "    <tr>\n",
       "      <th>0</th>\n",
       "      <td>13196866</td>\n",
       "      <td>2021-09-10T08:12:37Z</td>\n",
       "      <td>exchange</td>\n",
       "      <td>0x98cf637a89e954918c35a0a17f5fcc54a5da2b6ae498...</td>\n",
       "    </tr>\n",
       "    <tr>\n",
       "      <th>1</th>\n",
       "      <td>13196838</td>\n",
       "      <td>2021-09-10T08:05:04Z</td>\n",
       "      <td>exchange</td>\n",
       "      <td>0xb66445668270d3ee55a1eb905f7093a084528b92a1e4...</td>\n",
       "    </tr>\n",
       "    <tr>\n",
       "      <th>2</th>\n",
       "      <td>13196531</td>\n",
       "      <td>2021-09-10T06:57:14Z</td>\n",
       "      <td>exchange</td>\n",
       "      <td>0x57c4845e8f05010941994d5a2a26dfd6d174cd721556...</td>\n",
       "    </tr>\n",
       "    <tr>\n",
       "      <th>3</th>\n",
       "      <td>13196529</td>\n",
       "      <td>2021-09-10T06:55:39Z</td>\n",
       "      <td>exchange</td>\n",
       "      <td>0xc578e8fb37685d8005287d81711f575ed38c8293f12f...</td>\n",
       "    </tr>\n",
       "    <tr>\n",
       "      <th>4</th>\n",
       "      <td>13196410</td>\n",
       "      <td>2021-09-10T06:29:11Z</td>\n",
       "      <td>exchange</td>\n",
       "      <td>0xe4782f9bf20f662d83b3d0029d4f995bedaef99b0105...</td>\n",
       "    </tr>\n",
       "    <tr>\n",
       "      <th>...</th>\n",
       "      <td>...</td>\n",
       "      <td>...</td>\n",
       "      <td>...</td>\n",
       "      <td>...</td>\n",
       "    </tr>\n",
       "    <tr>\n",
       "      <th>495</th>\n",
       "      <td>13136990</td>\n",
       "      <td>2021-09-01T02:01:37Z</td>\n",
       "      <td>exchange</td>\n",
       "      <td>0xb52aba50eb07ce3c37d39c7b1241e8a55db433a9eccc...</td>\n",
       "    </tr>\n",
       "    <tr>\n",
       "      <th>496</th>\n",
       "      <td>13136985</td>\n",
       "      <td>2021-09-01T02:00:27Z</td>\n",
       "      <td>exchange</td>\n",
       "      <td>0xd159c7e9b209ed90fb5b2226762730a7cc0fede4ad7b...</td>\n",
       "    </tr>\n",
       "    <tr>\n",
       "      <th>497</th>\n",
       "      <td>13136897</td>\n",
       "      <td>2021-09-01T01:43:12Z</td>\n",
       "      <td>exchange</td>\n",
       "      <td>0xa6ca8c74873bcf56cf9b9b4d94ce0664a9880b5ab7e5...</td>\n",
       "    </tr>\n",
       "    <tr>\n",
       "      <th>498</th>\n",
       "      <td>13136863</td>\n",
       "      <td>2021-09-01T01:36:00Z</td>\n",
       "      <td>exchange</td>\n",
       "      <td>0x7b87f5a9b3a044d6f65d66e29185a7ce3eb1612a95b5...</td>\n",
       "    </tr>\n",
       "    <tr>\n",
       "      <th>499</th>\n",
       "      <td>13136549</td>\n",
       "      <td>2021-09-01T00:31:41Z</td>\n",
       "      <td>exchange</td>\n",
       "      <td>0x90872b80cb9ff3b7b167d126c19048993b807dc5902f...</td>\n",
       "    </tr>\n",
       "  </tbody>\n",
       "</table>\n",
       "<p>500 rows × 4 columns</p>\n",
       "</div>"
      ],
      "text/plain": [
       "     BLOCK_ID       BLOCK_TIMESTAMP ORIGIN_FUNCTION_NAME  \\\n",
       "0    13196866  2021-09-10T08:12:37Z             exchange   \n",
       "1    13196838  2021-09-10T08:05:04Z             exchange   \n",
       "2    13196531  2021-09-10T06:57:14Z             exchange   \n",
       "3    13196529  2021-09-10T06:55:39Z             exchange   \n",
       "4    13196410  2021-09-10T06:29:11Z             exchange   \n",
       "..        ...                   ...                  ...   \n",
       "495  13136990  2021-09-01T02:01:37Z             exchange   \n",
       "496  13136985  2021-09-01T02:00:27Z             exchange   \n",
       "497  13136897  2021-09-01T01:43:12Z             exchange   \n",
       "498  13136863  2021-09-01T01:36:00Z             exchange   \n",
       "499  13136549  2021-09-01T00:31:41Z             exchange   \n",
       "\n",
       "                                                 TX_ID  \n",
       "0    0x98cf637a89e954918c35a0a17f5fcc54a5da2b6ae498...  \n",
       "1    0xb66445668270d3ee55a1eb905f7093a084528b92a1e4...  \n",
       "2    0x57c4845e8f05010941994d5a2a26dfd6d174cd721556...  \n",
       "3    0xc578e8fb37685d8005287d81711f575ed38c8293f12f...  \n",
       "4    0xe4782f9bf20f662d83b3d0029d4f995bedaef99b0105...  \n",
       "..                                                 ...  \n",
       "495  0xb52aba50eb07ce3c37d39c7b1241e8a55db433a9eccc...  \n",
       "496  0xd159c7e9b209ed90fb5b2226762730a7cc0fede4ad7b...  \n",
       "497  0xa6ca8c74873bcf56cf9b9b4d94ce0664a9880b5ab7e5...  \n",
       "498  0x7b87f5a9b3a044d6f65d66e29185a7ce3eb1612a95b5...  \n",
       "499  0x90872b80cb9ff3b7b167d126c19048993b807dc5902f...  \n",
       "\n",
       "[500 rows x 4 columns]"
      ]
     },
     "execution_count": 211,
     "metadata": {},
     "output_type": "execute_result"
    }
   ],
   "source": [
    "crv_swaps"
   ]
  },
  {
   "cell_type": "code",
   "execution_count": 271,
   "id": "9f94e7a0",
   "metadata": {
    "collapsed": true
   },
   "outputs": [],
   "source": [
    "from web3 import Web3\n",
    "\n",
    "\n",
    "w3 = Web3(Web3.HTTPProvider(\"https://eth-mainnet.alchemyapi.io/v2/Q2k8S-H5IgX8LtdxYENTUVURcn06R1Zt\"))"
   ]
  },
  {
   "cell_type": "code",
   "execution_count": 272,
   "id": "d4a7d91a",
   "metadata": {},
   "outputs": [],
   "source": [
    "CURVE_ABI = curve_swap.abi"
   ]
  },
  {
   "cell_type": "code",
   "execution_count": 273,
   "id": "adbd879b",
   "metadata": {},
   "outputs": [],
   "source": [
    "crv_tripool_contract_obj = w3.eth.contract(address=CURVE_TRIPOOL, abi=CURVE_ABI)"
   ]
  },
  {
   "cell_type": "code",
   "execution_count": 274,
   "id": "34af3d11",
   "metadata": {},
   "outputs": [],
   "source": [
    "UNISWAP_V3_QUOTER = '0xb27308f9F90D607463bb33eA1BeBb41C27CE5AB6'"
   ]
  },
  {
   "cell_type": "code",
   "execution_count": 287,
   "id": "e94efb04",
   "metadata": {},
   "outputs": [],
   "source": [
    "DAI = '0x6B175474E89094C44Da98b954EedeAC495271d0F'\n",
    "USDT = '0xdAC17F958D2ee523a2206206994597C13D831ec7'\n",
    "\n",
    "UNISWAP_QUOTER_ABI = [{\"inputs\": [{\"internalType\": \"address\", \"name\": \"_factory\", \"type\": \"address\"}, {\"internalType\": \"address\", \"name\": \"_WETH9\", \"type\": \"address\"}], \"stateMutability\": \"nonpayable\", \"type\": \"constructor\"}, {\"inputs\": [], \"name\":\"WETH9\", \"outputs\":[{\"internalType\": \"address\", \"name\": \"\", \"type\": \"address\"}], \"stateMutability\": \"view\", \"type\": \"function\"}, {\"inputs\": [], \"name\":\"factory\", \"outputs\":[{\"internalType\": \"address\", \"name\": \"\", \"type\": \"address\"}], \"stateMutability\": \"view\", \"type\": \"function\"}, {\"inputs\": [{\"internalType\": \"bytes\", \"name\": \"path\", \"type\": \"bytes\"}, {\"internalType\": \"uint256\", \"name\": \"amountIn\", \"type\": \"uint256\"}], \"name\": \"quoteExactInput\", \"outputs\": [{\"internalType\": \"uint256\", \"name\": \"amountOut\", \"type\": \"uint256\"}], \"stateMutability\": \"nonpayable\", \"type\": \"function\"}, {\"inputs\": [{\"internalType\": \"address\", \"name\": \"tokenIn\", \"type\": \"address\"}, {\"internalType\": \"address\", \"name\": \"tokenOut\", \"type\": \"address\"}, {\"internalType\": \"uint24\", \"name\": \"fee\", \"type\": \"uint24\"}, {\"internalType\": \"uint256\", \"name\": \"amountIn\", \"type\": \"uint256\"}, {\"internalType\": \"uint160\", \"name\": \"sqrtPriceLimitX96\", \"type\": \"uint160\"}], \"name\": \"quoteExactInputSingle\", \"outputs\": [\n",
    "    {\"internalType\": \"uint256\", \"name\": \"amountOut\", \"type\": \"uint256\"}], \"stateMutability\": \"nonpayable\", \"type\": \"function\"}, {\"inputs\": [{\"internalType\": \"bytes\", \"name\": \"path\", \"type\": \"bytes\"}, {\"internalType\": \"uint256\", \"name\": \"amountOut\", \"type\": \"uint256\"}], \"name\": \"quoteExactOutput\", \"outputs\": [{\"internalType\": \"uint256\", \"name\": \"amountIn\", \"type\": \"uint256\"}], \"stateMutability\": \"nonpayable\", \"type\": \"function\"}, {\"inputs\": [{\"internalType\": \"address\", \"name\": \"tokenIn\", \"type\": \"address\"}, {\"internalType\": \"address\", \"name\": \"tokenOut\", \"type\": \"address\"}, {\"internalType\": \"uint24\", \"name\": \"fee\", \"type\": \"uint24\"}, {\"internalType\": \"uint256\", \"name\": \"amountOut\", \"type\": \"uint256\"}, {\"internalType\": \"uint160\", \"name\": \"sqrtPriceLimitX96\", \"type\": \"uint160\"}], \"name\": \"quoteExactOutputSingle\", \"outputs\": [{\"internalType\": \"uint256\", \"name\": \"amountIn\", \"type\": \"uint256\"}], \"stateMutability\": \"nonpayable\", \"type\": \"function\"}, {\"inputs\": [{\"internalType\": \"int256\", \"name\": \"amount0Delta\", \"type\": \"int256\"}, {\"internalType\": \"int256\", \"name\": \"amount1Delta\", \"type\": \"int256\"}, {\"internalType\": \"bytes\", \"name\": \"path\", \"type\": \"bytes\"}], \"name\": \"uniswapV3SwapCallback\", \"outputs\": [], \"stateMutability\":\"view\", \"type\":\"function\"}]"
   ]
  },
  {
   "cell_type": "code",
   "execution_count": 276,
   "id": "e314eb58",
   "metadata": {},
   "outputs": [],
   "source": [
    "uni_quoter = w3.eth.contract(\n",
    "    address=UNISWAP_V3_QUOTER, abi=UNISWAP_QUOTER_ABI)"
   ]
  },
  {
   "cell_type": "code",
   "execution_count": 298,
   "id": "e51c0df9",
   "metadata": {},
   "outputs": [
    {
     "data": {
      "text/plain": [
       "32955594"
      ]
     },
     "execution_count": 298,
     "metadata": {},
     "output_type": "execute_result"
    }
   ],
   "source": [
    "uni_quoter.functions.quoteExactInputSingle(\n",
    "        DAI,\n",
    "        USDT,\n",
    "        500,\n",
    "        32999999432280127947,\n",
    "        0\n",
    "    ).call(block_identifier=12370078)"
   ]
  },
  {
   "cell_type": "code",
   "execution_count": 300,
   "id": "fbc2198e",
   "metadata": {},
   "outputs": [
    {
     "data": {
      "text/plain": [
       "0.998751605724521"
      ]
     },
     "execution_count": 300,
     "metadata": {},
     "output_type": "execute_result"
    }
   ],
   "source": [
    "32955594 / 32996787"
   ]
  },
  {
   "cell_type": "code",
   "execution_count": 294,
   "id": "751231e8",
   "metadata": {
    "scrolled": true
   },
   "outputs": [
    {
     "data": {
      "text/plain": [
       "blockNumber                                                   12370078\n",
       "timeStamp                                                   1620162016\n",
       "hash                 0xc3408afc7a181483ed1e692f30c6660e1691dba3505f...\n",
       "nonce                                                               12\n",
       "blockHash            0x3eb2c404871d55ecf4fbf987ce48bbf3e34643e25078...\n",
       "from                        0xdd0d6c26a03d6f6541471d44179f56d478f50f6b\n",
       "contractAddress             0xdac17f958d2ee523a2206206994597c13d831ec7\n",
       "to                          0x6f48eca74b38d2936b02ab603ff4e36a6c0e3a77\n",
       "value                                                         32996787\n",
       "tokenName                                                   Tether USD\n",
       "tokenSymbol                                                       USDT\n",
       "tokenDecimal                                                         6\n",
       "transactionIndex                                                    86\n",
       "gas                                                            5737399\n",
       "gasPrice                                                   45000000000\n",
       "gasUsed                                                        5149148\n",
       "cumulativeGasUsed                                             12578994\n",
       "input                                                       deprecated\n",
       "confirmations                                                   828261\n",
       "Name: 1, dtype: object"
      ]
     },
     "execution_count": 294,
     "metadata": {},
     "output_type": "execute_result"
    }
   ],
   "source": [
    "swaps.iloc[1]"
   ]
  },
  {
   "cell_type": "code",
   "execution_count": 317,
   "id": "550c0d42",
   "metadata": {},
   "outputs": [
    {
     "name": "stderr",
     "output_type": "stream",
     "text": [
      "11it [00:06,  1.64it/s]\n"
     ]
    }
   ],
   "source": [
    "balances = defaultdict(list)\n",
    "\n",
    "for i, row in tqdm(crv_swaps.iterrows()):\n",
    "    block, tx_hash = row[['BLOCK_ID', 'TX_ID']]\n",
    "    tx = w3.eth.get_transaction(tx_hash)\n",
    "    func, params = crv_tripool_contract_obj.decode_function_input(tx['input'])\n",
    "    if params['j'] not in [0, 1] or params['i'] not in [0, 1]:\n",
    "        continue\n",
    "    curve_out = curve_swap.get_dy(params['i'], params['j'], params['dx'], block_identifier=block)\n",
    "    uni_out = uni_quoter.functions.quoteExactInputSingle(\n",
    "        TRIPOOL_TOKEN_MAP[params['i']],\n",
    "       TRIPOOL_TOKEN_MAP[params['j']],\n",
    "        500,\n",
    "        params['dx'],\n",
    "        0\n",
    "    ).call(block_identifier=block)\n",
    "    balances[TRIPOOL_TOKEN_MAP[params['j']]].append(curve_out - uni_out)\n",
    "    if i > 10:\n",
    "        break\n",
    "        "
   ]
  },
  {
   "cell_type": "code",
   "execution_count": 318,
   "id": "33f4100f",
   "metadata": {},
   "outputs": [
    {
     "name": "stdout",
     "output_type": "stream",
     "text": [
      "Total differential for USDT -> DAI: 92.80479463051972\n",
      "Mean differential for USDT -> DAI: 23.20119865762993\n",
      "Positive vs negative trades for USDT -> DAI: 4 / 4\n",
      "Total differential for DAI -> USDT: 116.389814\n",
      "Mean differential for DAI -> USDT: 29.0974535\n",
      "Positive vs negative trades for DAI -> USDT: 4 / 4\n"
     ]
    }
   ],
   "source": [
    "import numpy as np\n",
    "print(f\"Total differential for USDT -> DAI: {np.sum(balances[DAI]) / 10**18}\")\n",
    "print(f\"Mean differential for USDT -> DAI: {np.mean(balances[DAI]) / 10**18}\")\n",
    "print(f\"Positive vs negative trades for USDT -> DAI: {sum([_ > 0 for _ in balances[DAI]])} / {len(balances[DAI])}\")\n",
    "print(f\"Total differential for DAI -> USDT: {np.sum(balances[USDT]) / 10**6}\")\n",
    "print(f\"Mean differential for DAI -> USDT: {np.mean(balances[USDT]) / 10**6}\")\n",
    "print(f\"Positive vs negative trades for DAI -> USDT: {sum([_ > 0 for _ in balances[USDT]])} / {len(balances[USDT])}\")"
   ]
  },
  {
   "cell_type": "markdown",
   "id": "dad22742",
   "metadata": {},
   "source": [
    "## Misc tests"
   ]
  },
  {
   "cell_type": "code",
   "execution_count": 315,
   "id": "2e9e844e",
   "metadata": {},
   "outputs": [
    {
     "data": {
      "text/plain": [
       "defaultdict(list,\n",
       "            {'0xdAC17F958D2ee523a2206206994597C13D831ec7': [73634768809693076325,\n",
       "              11862265493696959355,\n",
       "              3994799850799571684,\n",
       "              3312960476330110692],\n",
       "             '0x6B175474E89094C44Da98b954EedeAC495271d0F': [25379799,\n",
       "              2167009,\n",
       "              51387783,\n",
       "              37455223]})"
      ]
     },
     "execution_count": 315,
     "metadata": {},
     "output_type": "execute_result"
    }
   ],
   "source": [
    "balances"
   ]
  },
  {
   "cell_type": "code",
   "execution_count": 311,
   "id": "ee38bcd8",
   "metadata": {},
   "outputs": [
    {
     "data": {
      "text/plain": [
       "555652004589866670870834"
      ]
     },
     "execution_count": 311,
     "metadata": {},
     "output_type": "execute_result"
    }
   ],
   "source": [
    "uni_quoter.functions.quoteExactInputSingle(\n",
    "        USDT,\n",
    "        DAI,\n",
    "        500,\n",
    "        555977662885,\n",
    "        0\n",
    "    ).call(block_identifier=block)"
   ]
  },
  {
   "cell_type": "code",
   "execution_count": 199,
   "id": "c7b6e916",
   "metadata": {},
   "outputs": [
    {
     "data": {
      "text/plain": [
       "'0x98cf637a89e954918c35a0a17f5fcc54a5da2b6ae498dcec8596926971cbae8c'"
      ]
     },
     "execution_count": 199,
     "metadata": {},
     "output_type": "execute_result"
    }
   ],
   "source": [
    "crv_swaps['TX_ID'][0]"
   ]
  },
  {
   "cell_type": "code",
   "execution_count": 212,
   "id": "a3598e61",
   "metadata": {},
   "outputs": [
    {
     "data": {
      "text/plain": [
       "13196866"
      ]
     },
     "execution_count": 212,
     "metadata": {},
     "output_type": "execute_result"
    }
   ],
   "source": [
    "crv_swaps['BLOCK_ID'][0]"
   ]
  },
  {
   "cell_type": "code",
   "execution_count": 202,
   "id": "af69f52e",
   "metadata": {},
   "outputs": [],
   "source": [
    "tx = w3.eth.get_transaction('0x98cf637a89e954918c35a0a17f5fcc54a5da2b6ae498dcec8596926971cbae8c')"
   ]
  },
  {
   "cell_type": "code",
   "execution_count": 214,
   "id": "6905420e",
   "metadata": {},
   "outputs": [],
   "source": [
    "func, params = crv_tripool_contract_obj.decode_function_input(tx['input'])\n"
   ]
  },
  {
   "cell_type": "code",
   "execution_count": 215,
   "id": "881254e6",
   "metadata": {},
   "outputs": [
    {
     "data": {
      "text/plain": [
       "{'i': 2, 'j': 1, 'dx': 5667018000, 'min_dy': 5609973600}"
      ]
     },
     "execution_count": 215,
     "metadata": {},
     "output_type": "execute_result"
    }
   ],
   "source": [
    "params"
   ]
  },
  {
   "cell_type": "code",
   "execution_count": 224,
   "id": "c102d99e",
   "metadata": {},
   "outputs": [
    {
     "data": {
      "text/plain": [
       "5666633931"
      ]
     },
     "execution_count": 224,
     "metadata": {},
     "output_type": "execute_result"
    }
   ],
   "source": [
    "curve_out = curve_swap.get_dy(params['i'], params['j'], params['dx'], block_identifier=13196866)\n",
    "curve_out"
   ]
  },
  {
   "cell_type": "code",
   "execution_count": 206,
   "id": "e61cafce",
   "metadata": {},
   "outputs": [
    {
     "data": {
      "text/plain": [
       "AttributeDict({'hash': HexBytes('0x98cf637a89e954918c35a0a17f5fcc54a5da2b6ae498dcec8596926971cbae8c'),\n",
       " 'blockHash': HexBytes('0x861cf58eaaab1daecff0116e33cc726b734d8411c18461b0504799d4b843fb0a'),\n",
       " 'blockNumber': 13196866,\n",
       " 'from': '0x10F1f29ca37BF2725910645f9205a88507aC52fc',\n",
       " 'gas': 252685,\n",
       " 'gasPrice': 93000000000,\n",
       " 'input': '0x3df02124000000000000000000000000000000000000000000000000000000000000000200000000000000000000000000000000000000000000000000000000000000010000000000000000000000000000000000000000000000000000000151c7d510000000000000000000000000000000000000000000000000000000014e616760',\n",
       " 'nonce': 11,\n",
       " 'r': HexBytes('0x1515a11c1c30d6753b80ced9f52f2da689058046d9212c92433c6187c20d3225'),\n",
       " 's': HexBytes('0x650cb444a808132d1a6f038a24479dd5eb60785ae2e05058d79dc01158490ca4'),\n",
       " 'to': '0xbEbc44782C7dB0a1A60Cb6fe97d0b483032FF1C7',\n",
       " 'transactionIndex': 150,\n",
       " 'type': '0x0',\n",
       " 'v': 37,\n",
       " 'value': 0})"
      ]
     },
     "execution_count": 206,
     "metadata": {},
     "output_type": "execute_result"
    }
   ],
   "source": [
    "tx"
   ]
  },
  {
   "cell_type": "code",
   "execution_count": 253,
   "id": "c4fd643b",
   "metadata": {},
   "outputs": [],
   "source": [
    "uni_quoter = brownie.Contract.from_abi(name=\"Quoter\",address=UNISWAP_V3_QUOTER,abi=UNISWAP_QUOTER_ABI)"
   ]
  },
  {
   "cell_type": "code",
   "execution_count": 269,
   "id": "d6acfe78",
   "metadata": {},
   "outputs": [],
   "source": [
    "# t = uni_quoter.quoteExactInputSingle(DAI,USDT,500,10000,0, {'from': accounts[0]})"
   ]
  },
  {
   "cell_type": "code",
   "execution_count": 278,
   "id": "450798ca",
   "metadata": {},
   "outputs": [
    {
     "data": {
      "text/plain": [
       "999567"
      ]
     },
     "execution_count": 278,
     "metadata": {},
     "output_type": "execute_result"
    }
   ],
   "source": [
    "uni_quoter.functions.quoteExactInputSingle(\n",
    "        DAI,\n",
    "        USDT,\n",
    "        500,\n",
    "        1 * (10 ** 18),\n",
    "        0\n",
    "    ).call(block_identifier=13196866)"
   ]
  },
  {
   "cell_type": "code",
   "execution_count": 234,
   "id": "00f09515",
   "metadata": {},
   "outputs": [
    {
     "ename": "IndexError",
     "evalue": "list index out of range",
     "output_type": "error",
     "traceback": [
      "\u001b[0;31m---------------------------------------------------------------------------\u001b[0m",
      "\u001b[0;31mIndexError\u001b[0m                                Traceback (most recent call last)",
      "\u001b[0;32m/tmp/ipykernel_2358/915419292.py\u001b[0m in \u001b[0;36m<module>\u001b[0;34m\u001b[0m\n\u001b[0;32m----> 1\u001b[0;31m \u001b[0mc\u001b[0m\u001b[0;34m.\u001b[0m\u001b[0mquoteExactOutputSingle\u001b[0m\u001b[0;34m(\u001b[0m\u001b[0;34m[\u001b[0m\u001b[0mDAI\u001b[0m\u001b[0;34m,\u001b[0m \u001b[0mUSDT\u001b[0m\u001b[0;34m,\u001b[0m \u001b[0;36m500\u001b[0m\u001b[0;34m]\u001b[0m\u001b[0;34m,\u001b[0m \u001b[0;36m5667018000\u001b[0m\u001b[0;34m,\u001b[0m \u001b[0;34m{\u001b[0m\u001b[0;34m'from'\u001b[0m\u001b[0;34m:\u001b[0m \u001b[0maccounts\u001b[0m\u001b[0;34m[\u001b[0m\u001b[0;36m0\u001b[0m\u001b[0;34m]\u001b[0m\u001b[0;34m}\u001b[0m\u001b[0;34m)\u001b[0m\u001b[0;34m\u001b[0m\u001b[0;34m\u001b[0m\u001b[0m\n\u001b[0m",
      "\u001b[0;32m~/.local/lib/python3.9/site-packages/brownie/network/account.py\u001b[0m in \u001b[0;36m__getitem__\u001b[0;34m(self, key)\u001b[0m\n\u001b[1;32m    111\u001b[0m \u001b[0;34m\u001b[0m\u001b[0m\n\u001b[1;32m    112\u001b[0m     \u001b[0;32mdef\u001b[0m \u001b[0m__getitem__\u001b[0m\u001b[0;34m(\u001b[0m\u001b[0mself\u001b[0m\u001b[0;34m,\u001b[0m \u001b[0mkey\u001b[0m\u001b[0;34m:\u001b[0m \u001b[0mint\u001b[0m\u001b[0;34m)\u001b[0m \u001b[0;34m->\u001b[0m \u001b[0;34m\"_PrivateKeyAccount\"\u001b[0m\u001b[0;34m:\u001b[0m\u001b[0;34m\u001b[0m\u001b[0;34m\u001b[0m\u001b[0m\n\u001b[0;32m--> 113\u001b[0;31m         \u001b[0;32mreturn\u001b[0m \u001b[0mself\u001b[0m\u001b[0;34m.\u001b[0m\u001b[0m_accounts\u001b[0m\u001b[0;34m[\u001b[0m\u001b[0mkey\u001b[0m\u001b[0;34m]\u001b[0m\u001b[0;34m\u001b[0m\u001b[0;34m\u001b[0m\u001b[0m\n\u001b[0m\u001b[1;32m    114\u001b[0m \u001b[0;34m\u001b[0m\u001b[0m\n\u001b[1;32m    115\u001b[0m     \u001b[0;32mdef\u001b[0m \u001b[0m__delitem__\u001b[0m\u001b[0;34m(\u001b[0m\u001b[0mself\u001b[0m\u001b[0;34m,\u001b[0m \u001b[0mkey\u001b[0m\u001b[0;34m:\u001b[0m \u001b[0mint\u001b[0m\u001b[0;34m)\u001b[0m \u001b[0;34m->\u001b[0m \u001b[0;32mNone\u001b[0m\u001b[0;34m:\u001b[0m\u001b[0;34m\u001b[0m\u001b[0;34m\u001b[0m\u001b[0m\n",
      "\u001b[0;31mIndexError\u001b[0m: list index out of range"
     ]
    }
   ],
   "source": [
    "c.quoteExactOutputSingle([DAI, USDT, 500], 5667018000, {'from': accounts[0]})"
   ]
  }
 ],
 "metadata": {
  "kernelspec": {
   "display_name": "Python 3 (ipykernel)",
   "language": "python",
   "name": "python3"
  },
  "language_info": {
   "codemirror_mode": {
    "name": "ipython",
    "version": 3
   },
   "file_extension": ".py",
   "mimetype": "text/x-python",
   "name": "python",
   "nbconvert_exporter": "python",
   "pygments_lexer": "ipython3",
   "version": "3.9.6"
  }
 },
 "nbformat": 4,
 "nbformat_minor": 5
}
